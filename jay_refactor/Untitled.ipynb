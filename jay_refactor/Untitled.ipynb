{
 "cells": [
  {
   "cell_type": "code",
   "execution_count": 2,
   "metadata": {},
   "outputs": [],
   "source": [
    "import tensorflow as tf\n",
    "import numpy as np\n",
    "sess=tf.Session()"
   ]
  },
  {
   "cell_type": "code",
   "execution_count": 12,
   "metadata": {},
   "outputs": [
    {
     "name": "stdout",
     "output_type": "stream",
     "text": [
      "(14032, 50, 28)\n"
     ]
    }
   ],
   "source": [
    "data = np.load('/workspace/data/nctu_cgvlab_bballgan/Reordered_Data/50Real.npy')[:,:,:11,:2]\n",
    "data = np.reshape(data,[data.shape[0],data.shape[1],data.shape[2]*data.shape[3]])\n",
    "data_feat = np.load('/workspace/data/nctu_cgvlab_bballgan/Reordered_Data/RealCond.npy')\n",
    "input_ = np.concatenate([data,data_feat], axis=-1)\n",
    "print(input_.shape)\n",
    "fake = tf.placeholder(tf.float32, shape=[None, 50, 28])"
   ]
  },
  {
   "cell_type": "code",
   "execution_count": 37,
   "metadata": {},
   "outputs": [],
   "source": [
    "ball_pos = fake[:, :, 0:2]\n",
    "ball_status = fake[:, :, 22:]\n",
    "ballpass_frames = tf.equal(tf.reduce_sum(ball_status, axis=-1), 0)[:, 1:-1]\n",
    "vel_1 = ball_pos[:, 1:-1] - ball_pos[:, 0:-2]\n",
    "vel_2 = ball_pos[:, 2:] - ball_pos[:, 1:-1]\n",
    "dot_p = vel_1[:,:,0]*vel_2[:,:,0] + vel_1[:,:,1]*vel_2[:,:,1]\n",
    "vel_1_norm = tf.math.sqrt(vel_1[:,:,0]**2+vel_1[:,:,1]**2+1e-10)\n",
    "vel_2_norm = tf.math.sqrt(vel_2[:,:,0]**2+vel_2[:,:,1]**2+1e-10)\n",
    "v = dot_p/(vel_1_norm*vel_2_norm)\n",
    "clip = tf.clip_by_value(v, -1.0+1e-5, 1.0-1e-5)\n",
    "theta = tf.math.acos(clip)\n",
    "pass_theta = tf.cast(ballpass_frames, tf.float32)*theta\n",
    "frames = tf.cast(tf.math.count_nonzero(ballpass_frames),tf.float32)\n",
    "result = tf.reduce_sum(pass_theta)/frames\n",
    "return_ = tf.where(tf.equal(frames, 0.0), 0.0, result)"
   ]
  },
  {
   "cell_type": "code",
   "execution_count": 47,
   "metadata": {},
   "outputs": [
    {
     "name": "stdout",
     "output_type": "stream",
     "text": [
      "nan\n"
     ]
    }
   ],
   "source": [
    "a=103\n",
    "feed = {fake:input_[a:a+1]}\n",
    "print(sess.run(result,feed_dict=feed))"
   ]
  },
  {
   "cell_type": "code",
   "execution_count": null,
   "metadata": {},
   "outputs": [],
   "source": []
  }
 ],
 "metadata": {
  "kernelspec": {
   "display_name": "Python 3",
   "language": "python",
   "name": "python3"
  },
  "language_info": {
   "codemirror_mode": {
    "name": "ipython",
    "version": 3
   },
   "file_extension": ".py",
   "mimetype": "text/x-python",
   "name": "python",
   "nbconvert_exporter": "python",
   "pygments_lexer": "ipython3",
   "version": "3.5.2"
  }
 },
 "nbformat": 4,
 "nbformat_minor": 2
}

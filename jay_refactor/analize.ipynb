{
 "cells": [
  {
   "cell_type": "code",
   "execution_count": 5,
   "metadata": {},
   "outputs": [],
   "source": [
    "import numpy as np"
   ]
  },
  {
   "cell_type": "markdown",
   "metadata": {},
   "source": [
    "## Ball to Handler"
   ]
  },
  {
   "cell_type": "code",
   "execution_count": 9,
   "metadata": {},
   "outputs": [],
   "source": [
    "def length(p1, p2, axis=-1):\n",
    "    return np.sqrt((p1[...,0]-p2[...,0])**2+(p1[...,1]-p2[...,1])**2)\n",
    "\n",
    "MODELS = [\n",
    "    '/workspace/data/nctu_cgvlab_bballgan/Log/1G3D-no-feat/results/reconstruct.npy',\n",
    "    '/workspace/data/nctu_cgvlab_bballgan/Log/1G3D/results/reconstruct.npy',\n",
    "    '/workspace/data/nctu_cgvlab_bballgan/Log/1G3D3P/results/reconstruct.npy',\n",
    "    '/workspace/data/nctu_cgvlab_bballgan/Log/CVAE/reconstruct.npy',\n",
    "    '/workspace/data/nctu_cgvlab_bballgan/Log/noSN/results/reconstruct.npy',\n",
    "    '/workspace/data/nctu_cgvlab_bballgan/Log/acc_pen/results/reconstruct.npy',\n",
    "    '/workspace/data/nctu_cgvlab_bballgan/Log/data_valid.npy'\n",
    "]"
   ]
  },
  {
   "cell_type": "code",
   "execution_count": 10,
   "metadata": {},
   "outputs": [
    {
     "name": "stdout",
     "output_type": "stream",
     "text": [
      "/workspace/data/nctu_cgvlab_bballgan/Log/1G3D-no-feat/results/reconstruct.npy                       :  1.8084, std:1.2922\n",
      "/workspace/data/nctu_cgvlab_bballgan/Log/1G3D/results/reconstruct.npy                               :  1.5991, std:1.1149\n",
      "/workspace/data/nctu_cgvlab_bballgan/Log/1G3D3P/results/reconstruct.npy                             :  1.3632, std:0.9749\n",
      "/workspace/data/nctu_cgvlab_bballgan/Log/CVAE/reconstruct.npy                                       :  1.2063, std:1.0166\n",
      "/workspace/data/nctu_cgvlab_bballgan/Log/noSN/results/reconstruct.npy                               :  1.5292, std:1.2204\n",
      "/workspace/data/nctu_cgvlab_bballgan/Log/acc_pen/results/reconstruct.npy                            :  1.5335, std:1.0931\n",
      "/workspace/data/nctu_cgvlab_bballgan/Log/data_valid.npy                                             :  1.5537, std:0.7944\n"
     ]
    }
   ],
   "source": [
    "for m_path in MODELS:\n",
    "    if m_path == '/workspace/data/nctu_cgvlab_bballgan/Log/data_valid.npy':\n",
    "        feat_path = '/workspace/data/nctu_cgvlab_bballgan/Log/rfeat_valid.npy'\n",
    "    else:\n",
    "        feat_path = '/workspace/data/nctu_cgvlab_bballgan/Log/feat_valid.npy'\n",
    "    rec_data = np.load(m_path)\n",
    "    rec_data = np.reshape(rec_data, [rec_data.shape[0], rec_data.shape[1], 11, 2])\n",
    "    num_data,num_seq,num_player,num_feat = rec_data.shape\n",
    "    feat_data = np.load(feat_path)[:,:,:5] # [?,?,6] -> [?,?,5] remove basket feature\n",
    "    # mask to filter out ball passing  \n",
    "    mask = np.sum(feat_data, axis=-1)!=0\n",
    "    feat_data = np.argmax(feat_data, axis=-1) + 1 # ball:0, offense:1-5, defense:6-10\n",
    "    # get index\n",
    "    idx = np.repeat(np.repeat(np.arange(num_data), [num_seq]),[2])\n",
    "    t_idx = np.repeat(np.tile(np.arange(num_seq), [num_data]),[2])\n",
    "    feat_idx = np.repeat(np.reshape(feat_data, [-1,]),[2])\n",
    "    xy_idx = np.tile(np.arange(2), [num_data*num_seq])\n",
    "    # gathering\n",
    "    handler_pos = rec_data[idx,t_idx,feat_idx,xy_idx].reshape([num_data, num_seq, num_feat])\n",
    "    ball_pos = rec_data[:,:,0,:]\n",
    "    # compute distance\n",
    "    lens = length(handler_pos, ball_pos)\n",
    "    dist = np.sum(lens*mask)/np.count_nonzero(mask)\n",
    "    std = (np.sum((lens-dist)**2*mask)/(np.count_nonzero(mask)-1))**0.5\n",
    "    print('{0:100}:  {1:.4f}, std:{2:.4f}'.format(m_path, dist, std))"
   ]
  },
  {
   "cell_type": "markdown",
   "metadata": {},
   "source": [
    "## Ball to Defender"
   ]
  },
  {
   "cell_type": "code",
   "execution_count": 11,
   "metadata": {},
   "outputs": [
    {
     "name": "stdout",
     "output_type": "stream",
     "text": [
      "/workspace/data/nctu_cgvlab_bballgan/Log/1G3D-no-feat/results/reconstruct.npy                       :  6.7745, std:3.3128\n",
      "/workspace/data/nctu_cgvlab_bballgan/Log/1G3D/results/reconstruct.npy                               :  6.8084, std:3.2307\n",
      "/workspace/data/nctu_cgvlab_bballgan/Log/1G3D3P/results/reconstruct.npy                             :  6.5078, std:3.2255\n",
      "/workspace/data/nctu_cgvlab_bballgan/Log/CVAE/reconstruct.npy                                       :  6.1882, std:2.2477\n",
      "/workspace/data/nctu_cgvlab_bballgan/Log/noSN/results/reconstruct.npy                               :  6.3518, std:2.7743\n",
      "/workspace/data/nctu_cgvlab_bballgan/Log/acc_pen/results/reconstruct.npy                            :  6.6968, std:3.0402\n",
      "/workspace/data/nctu_cgvlab_bballgan/Log/data_valid.npy                                             :  6.3794, std:2.7448\n"
     ]
    }
   ],
   "source": [
    "for m_path in MODELS:\n",
    "    if m_path == '/workspace/data/nctu_cgvlab_bballgan/Log/data_valid.npy':\n",
    "        feat_path = '/workspace/data/nctu_cgvlab_bballgan/Log/rfeat_valid.npy'\n",
    "    else:\n",
    "        feat_path = '/workspace/data/nctu_cgvlab_bballgan/Log/feat_valid.npy'   \n",
    "    rec_data = np.load(m_path)\n",
    "    rec_data = np.reshape(rec_data, [rec_data.shape[0], rec_data.shape[1], 11, 2])\n",
    "    num_data,num_seq,num_player,num_feat = rec_data.shape\n",
    "    feat_data = np.load(feat_path)[:,:,:5] # [?,?,6] -> [?,?,5] remove basket feature\n",
    "    # mask to filter out ball passing  \n",
    "    mask = np.sum(feat_data, axis=-1)!=0\n",
    "    defender_pos = rec_data[:,:,6:11,:]\n",
    "    ball_pos = rec_data[:,:,0:1,:]\n",
    "    # compute distance\n",
    "    def_5lens = length(defender_pos, ball_pos)\n",
    "    def_best = np.amin(def_5lens, axis=-1)\n",
    "    dist =  np.sum(def_best*mask)/np.count_nonzero(mask)\n",
    "    std = (np.sum((def_best-dist)**2*mask)/(np.count_nonzero(mask)-1))**0.5\n",
    "    print('{0:100}:  {1:.4f}, std:{2:.4f}'.format(m_path, dist, std))"
   ]
  },
  {
   "cell_type": "code",
   "execution_count": null,
   "metadata": {},
   "outputs": [],
   "source": []
  },
  {
   "cell_type": "code",
   "execution_count": null,
   "metadata": {},
   "outputs": [],
   "source": []
  }
 ],
 "metadata": {
  "kernelspec": {
   "display_name": "Python 3",
   "language": "python",
   "name": "python3"
  },
  "language_info": {
   "codemirror_mode": {
    "name": "ipython",
    "version": 3
   },
   "file_extension": ".py",
   "mimetype": "text/x-python",
   "name": "python",
   "nbconvert_exporter": "python",
   "pygments_lexer": "ipython3",
   "version": "3.5.2"
  }
 },
 "nbformat": 4,
 "nbformat_minor": 2
}

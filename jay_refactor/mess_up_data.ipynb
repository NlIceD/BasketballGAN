{
 "cells": [
  {
   "cell_type": "code",
   "execution_count": 1,
   "metadata": {},
   "outputs": [],
   "source": [
    "import numpy as np\n",
    "import os\n",
    "\n",
    "data_path='/workspace/data/nctu_cgvlab_bballgan/Reordered_Data/'\n",
    "save_messy_data = '/workspace/data/nctu_cgvlab_bballgan/Messy_Data/'\n",
    "if not os.path.exists(save_messy_data):\n",
    "    os.makedirs(save_messy_data)"
   ]
  },
  {
   "cell_type": "code",
   "execution_count": 2,
   "metadata": {},
   "outputs": [
    {
     "name": "stdout",
     "output_type": "stream",
     "text": [
      "Real Data:  (14032, 50, 11, 4)\n",
      "Seq Data:  (14032, 50, 6, 2)\n",
      "Real Feat:  (14032, 50, 6)\n",
      "Seq Feat:  (14032, 50, 6)\n"
     ]
    }
   ],
   "source": [
    "real_data = np.load(os.path.join(data_path, '50Real.npy'))\n",
    "seq_data = np.load(os.path.join(data_path, '50Seq.npy')).reshape([-1,50,6,2])\n",
    "features_ = np.load(os.path.join(data_path, 'SeqCond.npy'))\n",
    "real_feat = np.load(os.path.join(data_path, 'RealCond.npy'))\n",
    "\n",
    "print(\"Real Data: \", real_data.shape)\n",
    "print(\"Seq Data: \", seq_data.shape)\n",
    "print(\"Real Feat: \", real_feat.shape)\n",
    "print(\"Seq Feat: \", features_.shape)"
   ]
  },
  {
   "cell_type": "code",
   "execution_count": 3,
   "metadata": {},
   "outputs": [
    {
     "name": "stdout",
     "output_type": "stream",
     "text": [
      "0\n",
      "1000\n",
      "2000\n",
      "3000\n",
      "4000\n",
      "5000\n",
      "6000\n",
      "7000\n",
      "8000\n",
      "9000\n",
      "10000\n",
      "11000\n",
      "12000\n",
      "13000\n",
      "14000\n"
     ]
    }
   ],
   "source": [
    "for i in range(real_data.shape[0]):\n",
    "    if i%1000==0:\n",
    "        print(i)\n",
    "    off_index = np.random.permutation(5)+1\n",
    "    def_index = np.random.permutation(5)+6\n",
    "    for j in range(real_data.shape[1]):\n",
    "        real_data[i,j,1:6] = real_data[i,j,off_index]\n",
    "        real_data[i,j,6:11] = real_data[i,j,def_index]\n",
    "        seq_data[i,j,1:6] = seq_data[i,j,off_index]\n",
    "        features_[i,j,1:6] = features_[i,j,off_index]\n",
    "        real_feat[i,j,1:6] = real_feat[i,j,off_index]\n"
   ]
  },
  {
   "cell_type": "code",
   "execution_count": 4,
   "metadata": {},
   "outputs": [
    {
     "name": "stdout",
     "output_type": "stream",
     "text": [
      "Real Data:  (14032, 50, 11, 4)\n",
      "Seq Data:  (14032, 50, 12)\n",
      "Real Feat:  (14032, 50, 6)\n",
      "Seq Feat:  (14032, 50, 6)\n"
     ]
    }
   ],
   "source": [
    "seq_data = np.reshape(seq_data, [-1,50,12])\n",
    "np.save(os.path.join(save_messy_data, '50Real.npy'),real_data)\n",
    "np.save(os.path.join(save_messy_data, '50Seq.npy'),seq_data)\n",
    "np.save(os.path.join(save_messy_data, 'SeqCond.npy'),features_)\n",
    "np.save(os.path.join(save_messy_data, 'RealCond.npy'),real_feat)\n",
    "\n",
    "print(\"Real Data: \", real_data.shape)\n",
    "print(\"Seq Data: \", seq_data.shape)\n",
    "print(\"Real Feat: \", real_feat.shape)\n",
    "print(\"Seq Feat: \", features_.shape)"
   ]
  },
  {
   "cell_type": "code",
   "execution_count": null,
   "metadata": {},
   "outputs": [],
   "source": []
  }
 ],
 "metadata": {
  "kernelspec": {
   "display_name": "Python 3",
   "language": "python",
   "name": "python3"
  },
  "language_info": {
   "codemirror_mode": {
    "name": "ipython",
    "version": 3
   },
   "file_extension": ".py",
   "mimetype": "text/x-python",
   "name": "python",
   "nbconvert_exporter": "python",
   "pygments_lexer": "ipython3",
   "version": "3.5.2"
  }
 },
 "nbformat": 4,
 "nbformat_minor": 2
}
